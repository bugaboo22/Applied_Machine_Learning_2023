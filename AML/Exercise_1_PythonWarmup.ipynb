{
 "cells": [
  {
   "cell_type": "markdown",
   "id": "0b90ecc4",
   "metadata": {},
   "source": [
    "# Applied Machine Learning (2022), exercises\n",
    "\n",
    "\n",
    "## General instructions for all exercises\n",
    "\n",
    "Follow the instructions and fill in your solution under the line marked by tag\n",
    "\n",
    "> YOUR CODE HERE\n",
    "\n",
    "Remove also line \n",
    "\n",
    "> raise NotImplementedError()\n",
    "\n",
    "**Do not change other areas of the document**, since it may disturb the autograding of your results!\n",
    "  \n",
    "Having written the answer, execute the code cell by and pressing `Shift-Enter` key combination. The code is run, and it may print some information under the code cell. The focus automatically moves to the next cell and you may \"execute\" that cell by pressing `Shift-Enter` again, until you have reached the code cell which tests your solution. Execute that and follow the feedback. Usually it either says that the solution seems acceptable, or reports some errors. You can go back to your solution, modify it and repeat everything until you are satisfied. Then proceed to the next task.\n",
    "   \n",
    "Repeat the process for all tasks.\n",
    "\n",
    "The notebook may also contain manually graded answers. Write your manually graded answer under the line marked by tag:\n",
    "\n",
    "> YOUR ANSWER HERE\n",
    "\n",
    "Manually graded tasks are text in markdown format. It may contain text, pseudocode, or mathematical formulas. You can write formulas with $\\LaTeX$-syntax by enclosing the formula with dollar signs (`$`), for example `$f(x)=2 \\pi / \\alpha$`, will produce $f(x)=2 \\pi / \\alpha$\n",
    "\n",
    "When you have passed the tests in the notebook, and you are ready to submit your solutions, validate and submit your solution using the nbgrader tools from the `Nbgrader/Assignment List`-menu.\n"
   ]
  },
  {
   "cell_type": "code",
   "execution_count": null,
   "id": "144eafdd",
   "metadata": {},
   "outputs": [],
   "source": []
  },
  {
   "cell_type": "markdown",
   "id": "daffe2b8",
   "metadata": {
    "deletable": false,
    "editable": false,
    "nbgrader": {
     "cell_type": "markdown",
     "checksum": "aba5e93ffe2abde5bfbd76f146bfa7d5",
     "grade": false,
     "grade_id": "cell-d4870dd21eeb6a3c",
     "locked": true,
     "schema_version": 3,
     "solution": false,
     "task": false
    }
   },
   "source": [
    "# Python warmup"
   ]
  },
  {
   "cell_type": "markdown",
   "id": "fe141740",
   "metadata": {
    "deletable": false,
    "editable": false,
    "nbgrader": {
     "cell_type": "markdown",
     "checksum": "daf042cc5312462226aca4a9c6a1a120",
     "grade": false,
     "grade_id": "cell-74afa41f6340dc6e",
     "locked": true,
     "schema_version": 3,
     "solution": false,
     "task": false
    }
   },
   "source": [
    "## Create a  python data structures\n",
    "\n",
    "1. Create an integer scalar variable `x`, and print it\n",
    "1. Create a python list, `l`, and print it using function `list()` or directly with syntax `l=[1,4,2,3]`\n",
    "1. Create a [numpy array](https://numpy.org/doc/stable/reference/generated/numpy.array.html), `a`, and print it. Tip: Import numpy library first by using: ```import numpy as np``` \n",
    "\n",
    "Python lists are suitable in many cases, but they are not efficient for large amounts of data or mathematical operations. Numpy arrays include a lot of useful functions which are packaged in numpy arrays."
   ]
  },
  {
   "cell_type": "code",
   "execution_count": 1,
   "id": "25ac66c7",
   "metadata": {
    "ExecuteTime": {
     "end_time": "2022-09-20T20:01:32.200637Z",
     "start_time": "2022-09-20T20:01:32.184648Z"
    },
    "deletable": false,
    "nbgrader": {
     "cell_type": "code",
     "checksum": "abb0208b2e7e9ab4875309931ebf4ad7",
     "grade": false,
     "grade_id": "cell-a60da60f60729900",
     "locked": false,
     "schema_version": 3,
     "solution": true,
     "task": false
    }
   },
   "outputs": [
    {
     "name": "stdout",
     "output_type": "stream",
     "text": [
      "1\n",
      "[1, 4, 2, 3]\n",
      "[1 2 3 4]\n"
     ]
    }
   ],
   "source": [
    "# YOUR CODE HERE\n",
    "import numpy as np\n",
    "\n",
    "x=1\n",
    "print(x)\n",
    "l=list((1,4,2,3))\n",
    "print(l)\n",
    "a=np.array([1,2,3,4])\n",
    "print(a)"
   ]
  },
  {
   "cell_type": "code",
   "execution_count": null,
   "id": "d7070351",
   "metadata": {
    "ExecuteTime": {
     "end_time": "2022-09-20T20:41:10.962289Z",
     "start_time": "2022-09-20T20:41:10.936391Z"
    },
    "deletable": false,
    "editable": false,
    "nbgrader": {
     "cell_type": "code",
     "checksum": "c70b3ff239bf6c1164b263bd8fec5cbe",
     "grade": true,
     "grade_id": "cell-bc4eaa98d5b95c59",
     "locked": true,
     "points": 2,
     "schema_version": 3,
     "solution": false,
     "task": false
    }
   },
   "outputs": [],
   "source": [
    "if 'x' not in globals():\n",
    "    print(\"x not found! Please define x as scalar variable.\")\n",
    "elif 'l' not in globals():\n",
    "    print(\"l not found! Please define l list.\")\n",
    "elif 'a' not in globals():\n",
    "    print(\"a not found! Please define a as numpy array.\")\n",
    "else:\n",
    "    print(\"No errors found this far. Your code may work.\")\n"
   ]
  },
  {
   "cell_type": "markdown",
   "id": "e0f3db40",
   "metadata": {
    "deletable": false,
    "editable": false,
    "nbgrader": {
     "cell_type": "markdown",
     "checksum": "7502d918dfa38b616d47f8623298f84b",
     "grade": false,
     "grade_id": "cell-e597abe8a05b8f2e",
     "locked": true,
     "schema_version": 3,
     "solution": false,
     "task": false
    }
   },
   "source": [
    "## Use numpy functions for creating arrays\n",
    "\n",
    "1. Create a numpy array, `values`, which has 100 consequent values between 0 and $\\pi$ using [np.linspace()](https://numpy.org/doc/stable/reference/generated/numpy.linspace.html?highlight=linspace#numpy.linspace). Use ```np.pi``` as constant for $\\pi$.\n",
    "1. Create a two-dimensional array `M` of 5x5 [zeros](https://numpy.org/doc/stable/reference/generated/numpy.zeros.html?highlight=zeros#numpy.zeros) or 5x5 [ones](https://numpy.org/doc/stable/reference/generated/numpy.ones.html?highlight=ones#numpy.ones). using appropriate functions\n",
    "1. Create one more 2 dimensional array with the following code ```A=np.array([[1,2,3], [4,5,6]])```\n",
    "\n",
    "**TIP:** to find out what other functions or constants are included in NumPy package, write `np.` in the command line, and press TAB-key to get a list of possible completions, or SHIFT-TAB to get the help window."
   ]
  },
  {
   "cell_type": "code",
   "execution_count": 5,
   "id": "3971e609",
   "metadata": {
    "ExecuteTime": {
     "end_time": "2022-09-20T20:21:27.130879Z",
     "start_time": "2022-09-20T20:21:27.121361Z"
    },
    "deletable": false,
    "nbgrader": {
     "cell_type": "code",
     "checksum": "9bc01314c7743edb485fbe6472668e3a",
     "grade": false,
     "grade_id": "cell-84bdec6840dac41f",
     "locked": false,
     "schema_version": 3,
     "solution": true,
     "task": false
    }
   },
   "outputs": [
    {
     "name": "stdout",
     "output_type": "stream",
     "text": [
      "[1.         1.04370597 1.08741195 1.13111792 1.17482389 1.21852986\n",
      " 1.26223584 1.30594181 1.34964778 1.39335375 1.43705973 1.4807657\n",
      " 1.52447167 1.56817764 1.61188362 1.65558959 1.69929556 1.74300153\n",
      " 1.78670751 1.83041348 1.87411945 1.91782542 1.9615314  2.00523737\n",
      " 2.04894334 2.09264931 2.13635529 2.18006126 2.22376723 2.2674732\n",
      " 2.31117918 2.35488515 2.39859112 2.44229709 2.48600307 2.52970904\n",
      " 2.57341501 2.61712098 2.66082696 2.70453293 2.7482389  2.79194487\n",
      " 2.83565085 2.87935682 2.92306279 2.96676876 3.01047474 3.05418071\n",
      " 3.09788668 3.14159265]\n",
      "[[0. 0. 0. 0. 0.]\n",
      " [0. 0. 0. 0. 0.]\n",
      " [0. 0. 0. 0. 0.]\n",
      " [0. 0. 0. 0. 0.]\n",
      " [0. 0. 0. 0. 0.]]\n",
      "[[1 2 3]\n",
      " [4 5 6]]\n"
     ]
    }
   ],
   "source": [
    "# YOUR CODE HERE\n",
    "import numpy as np\n",
    "values = np.linspace(1, np.pi)\n",
    "print(values)\n",
    "\n",
    "M = np.zeros((5,5))\n",
    "print(M)\n",
    "\n",
    "A=np.array([[1,2,3], [4,5,6]])\n",
    "print(A)"
   ]
  },
  {
   "cell_type": "code",
   "execution_count": null,
   "id": "77dd5051",
   "metadata": {
    "ExecuteTime": {
     "end_time": "2022-09-20T20:42:34.827912Z",
     "start_time": "2022-09-20T20:42:34.787028Z"
    },
    "deletable": false,
    "editable": false,
    "nbgrader": {
     "cell_type": "code",
     "checksum": "c5e883c32387c593a5576475c4750915",
     "grade": true,
     "grade_id": "cell-8b10b5261858131d",
     "locked": true,
     "points": 3,
     "schema_version": 3,
     "solution": false,
     "task": false
    }
   },
   "outputs": [],
   "source": [
    "errorfound=False\n",
    "require=('values', 'M', 'A')\n",
    "for var in require:\n",
    "    if var not in globals():\n",
    "        print(var, \"not found! Please define it.\")\n",
    "        errorfound=True\n",
    "if not errorfound:\n",
    "    print(\"No errrors found this far, your code may work :)\")\n",
    "        "
   ]
  },
  {
   "cell_type": "markdown",
   "id": "d8f663ae",
   "metadata": {},
   "source": [
    "## Manipulate data structures\n",
    "1. Study the shape of previously created numpy arrays by using function ```.shape()``` included in the arrays you created.\n",
    "1. Try to calculate also the sum of all values in those arrays with ```.sum()``` function. Store the sum of array `values` to variable called `s`.\n",
    "1. Transpose a two dimensional array with function ```.T``` for example ```A.T``` and name the result as `tA`\n",
    "1. Transposing a one dimensional array looks sadly slightly illogical, because it needs to be also converted to two dimensional at the same time. The row vector `values` can be transposed to column vector with syntax `\n",
    "values.reshape(-1,1)`. Try it and name the result as `tvalues`. \n",
    "1. Try also to transpose the column vector back to row vector\n"
   ]
  },
  {
   "cell_type": "code",
   "execution_count": 24,
   "id": "e76b31ea",
   "metadata": {
    "ExecuteTime": {
     "end_time": "2022-09-20T20:30:02.385809Z",
     "start_time": "2022-09-20T20:30:02.378390Z"
    },
    "deletable": false,
    "nbgrader": {
     "cell_type": "code",
     "checksum": "e621162c43dbc7f97d7e9b5b326b72e5",
     "grade": false,
     "grade_id": "cell-3b75e463ba50584b",
     "locked": false,
     "schema_version": 3,
     "solution": true,
     "task": false
    }
   },
   "outputs": [
    {
     "name": "stdout",
     "output_type": "stream",
     "text": [
      "(50,)\n",
      "(5, 5)\n",
      "(2, 3)\n",
      "103.53981633974483\n",
      "[[1 4]\n",
      " [2 5]\n",
      " [3 6]]\n",
      "[[1.        ]\n",
      " [1.04370597]\n",
      " [1.08741195]\n",
      " [1.13111792]\n",
      " [1.17482389]\n",
      " [1.21852986]\n",
      " [1.26223584]\n",
      " [1.30594181]\n",
      " [1.34964778]\n",
      " [1.39335375]\n",
      " [1.43705973]\n",
      " [1.4807657 ]\n",
      " [1.52447167]\n",
      " [1.56817764]\n",
      " [1.61188362]\n",
      " [1.65558959]\n",
      " [1.69929556]\n",
      " [1.74300153]\n",
      " [1.78670751]\n",
      " [1.83041348]\n",
      " [1.87411945]\n",
      " [1.91782542]\n",
      " [1.9615314 ]\n",
      " [2.00523737]\n",
      " [2.04894334]\n",
      " [2.09264931]\n",
      " [2.13635529]\n",
      " [2.18006126]\n",
      " [2.22376723]\n",
      " [2.2674732 ]\n",
      " [2.31117918]\n",
      " [2.35488515]\n",
      " [2.39859112]\n",
      " [2.44229709]\n",
      " [2.48600307]\n",
      " [2.52970904]\n",
      " [2.57341501]\n",
      " [2.61712098]\n",
      " [2.66082696]\n",
      " [2.70453293]\n",
      " [2.7482389 ]\n",
      " [2.79194487]\n",
      " [2.83565085]\n",
      " [2.87935682]\n",
      " [2.92306279]\n",
      " [2.96676876]\n",
      " [3.01047474]\n",
      " [3.05418071]\n",
      " [3.09788668]\n",
      " [3.14159265]]\n",
      "[[0. 0. 0. 0. 0.]\n",
      " [0. 0. 0. 0. 0.]\n",
      " [0. 0. 0. 0. 0.]\n",
      " [0. 0. 0. 0. 0.]\n",
      " [0. 0. 0. 0. 0.]]\n",
      "[0. 0. 0. 0. 0. 0. 0. 0. 0. 0. 0. 0. 0. 0. 0. 0. 0. 0. 0. 0. 0. 0. 0. 0.\n",
      " 0.]\n"
     ]
    }
   ],
   "source": [
    "# YOUR CODE HERE\n",
    "# 1\n",
    "\n",
    "import numpy as np\n",
    "values = np.linspace(1, np.pi)\n",
    "print(values.shape)\n",
    "\n",
    "M = np.zeros((5,5))\n",
    "print(M.shape)\n",
    "\n",
    "A=np.array([[1,2,3], [4,5,6]])\n",
    "print(A.shape)\n",
    "\n",
    "\n",
    "# 2\n",
    "s = values.sum()\n",
    "print(s) \n",
    "\n",
    "# 3\n",
    "\n",
    "tA = A.T\n",
    "print(tA)\n",
    "\n",
    "# 4\n",
    "\n",
    "tvalues = values.reshape(-1,1)\n",
    "print(tvalues)\n",
    "\n",
    "# 5\n",
    "\n",
    "row = M.flatten()\n",
    "print(M)\n",
    "print(row)\n",
    "\n"
   ]
  },
  {
   "cell_type": "code",
   "execution_count": null,
   "id": "6766a2fb",
   "metadata": {
    "ExecuteTime": {
     "end_time": "2022-09-20T20:43:15.182121Z",
     "start_time": "2022-09-20T20:43:15.156778Z"
    },
    "deletable": false,
    "editable": false,
    "nbgrader": {
     "cell_type": "code",
     "checksum": "e608c0a20622d9fb11aea730ca51f395",
     "grade": true,
     "grade_id": "cell-505a65dfd626e1e6",
     "locked": true,
     "points": 2,
     "schema_version": 3,
     "solution": false,
     "task": false
    }
   },
   "outputs": [],
   "source": [
    "errorfound=False\n",
    "require=('s', 'tA', 'tvalues')\n",
    "for var in require:\n",
    "    if var not in globals():\n",
    "        print(var, \"not found! Please define it.\")\n",
    "        errorfound=True\n",
    "if not errorfound:\n",
    "    print(\"No errrors found this far, your code may work :)\")\n",
    "         "
   ]
  },
  {
   "cell_type": "markdown",
   "id": "179dc638-64a5-4554-9638-0cad52284e17",
   "metadata": {},
   "source": [
    "## Loops and functions\n",
    "1. Create a function `squares`, which takes a an integer, n, as a parameter, and prints the values and squares of n first integers, and returns the square of n as its value.\n",
    "\n",
    "The functions in Python are created with the keyword `def`, like `def sum(x):`. The semicolon starts the block, which is included in the body of the function. All lines included in the function body needs to be indented. No begin-end or curly braces needed to indicate a block, like in many other languages.\n",
    "\n",
    "The for loop for 1 to 10 can be programmed using `range()`-function, which returns an iterable range of values, The for-loop interates through each of the values using the following syntax: `for i in range(10):`. The colon starts the block included in the loop body, which is expressed with intendations. \n",
    "\n",
    "The function can return with value using the `return` keyword.\n",
    "\n",
    "Test your function.\n",
    "\n",
    "You can also test the `range()` function to see how it works. \n",
    "\n",
    "See more instructions and examples from [W3C Python school material](https://www.w3schools.com/python/python_functions.asp)\n"
   ]
  },
  {
   "cell_type": "code",
   "execution_count": 45,
   "id": "8d154759-2426-429b-97e8-d7c41aef3668",
   "metadata": {
    "ExecuteTime": {
     "end_time": "2022-09-20T20:30:02.385809Z",
     "start_time": "2022-09-20T20:30:02.378390Z"
    },
    "deletable": false,
    "nbgrader": {
     "cell_type": "code",
     "checksum": "4b19aecb4b96db1cdec528d8dc296f8d",
     "grade": false,
     "grade_id": "cell-3b75e463ba50584c",
     "locked": false,
     "schema_version": 3,
     "solution": true,
     "task": false
    }
   },
   "outputs": [
    {
     "name": "stdout",
     "output_type": "stream",
     "text": [
      "The value is 1 and its square is 1\n",
      "The value is 2 and its square is 4\n",
      "The value is 3 and its square is 9\n",
      "The value is 4 and its square is 16\n",
      "The value is 5 and its square is 25\n",
      "The square of 5 is 25\n",
      "Testing range(5):\n",
      "0\n",
      "1\n",
      "2\n",
      "3\n",
      "4\n"
     ]
    }
   ],
   "source": [
    "# YOUR CODE HERE\n",
    "def squares(n):\n",
    "    for i in range(1, n + 1):\n",
    "         print(f\"The value is {i} and its square is {i ** 2}\")\n",
    "    return i ** 2\n",
    "\n",
    "n = 5\n",
    "result = squares(n)\n",
    "print(f\"The square of {n} is {result}\")\n",
    "\n",
    "print(\"Testing range(5):\")\n",
    "for i in range(5):  \n",
    "    print(i)\n",
    "\n",
    "   "
   ]
  },
  {
   "cell_type": "code",
   "execution_count": null,
   "id": "ede1f581-7119-4b1c-8a08-a3bfe927d256",
   "metadata": {
    "ExecuteTime": {
     "end_time": "2022-09-20T20:43:15.182121Z",
     "start_time": "2022-09-20T20:43:15.156778Z"
    },
    "deletable": false,
    "editable": false,
    "nbgrader": {
     "cell_type": "code",
     "checksum": "b6d652ee118f2d65bcdde3b44d8c9961",
     "grade": true,
     "grade_id": "cell-505a65dfd626e1e7",
     "locked": true,
     "points": 3,
     "schema_version": 3,
     "solution": false,
     "task": false
    }
   },
   "outputs": [],
   "source": [
    "errorfound=False\n",
    "Ncorrect=0\n",
    "require=['squares']\n",
    "for var in require:\n",
    "    if var not in globals():\n",
    "        print(var, \"not found! Please define it.\")\n",
    "        errorfound=True\n",
    "if not errorfound:\n",
    "    Ncorrect+=1\n",
    "if squares(4)==16:\n",
    "    Ncorrect+=1\n",
    "else:\n",
    "    errorfound=True\n",
    "    print(\"The function squares did not return the correct value\")\n",
    "if not errorfound:\n",
    "    print(\"No errrors found this far, your code may work :)\")\n",
    "         "
   ]
  },
  {
   "cell_type": "markdown",
   "id": "a76bea51",
   "metadata": {},
   "source": [
    "# Language features\n",
    "\n",
    "Do you know the answer to the following questions? (No points offered, though)\n",
    "\n",
    "1. Is Python an object oriented language?\n",
    "1. Is Python interpreted or compiled language?\n",
    "1. Is Python fast to run?"
   ]
  },
  {
   "cell_type": "markdown",
   "id": "22cb05dc",
   "metadata": {},
   "source": [
    "## Summary\n",
    "1. NumPy arrays are very important data structures in Python for machine learning and mathematical operations\n",
    "1. Numpy arrays can be 1 dimensional or many dimensional\n",
    "1. Two dimensional arrays can be transposed like matrices in mathematics \n",
    "1. Numpy arrays contain a large amount of functions which can be applied to their content\n",
    "2. Functions are defined with `def f(x):` syntax. They are important in capsulating parts of the task behind one abstract name.\n",
    "3. Loops are made by iterating through and iterable object, such as list of values, array or range()\n",
    "4. The code blocks in Python are indicated using intendation, noth with curly braces or begin-end constructions, like in many other languages."
   ]
  }
 ],
 "metadata": {
  "kernelspec": {
   "display_name": "Python 3 (ipykernel)",
   "language": "python",
   "name": "python3"
  },
  "language_info": {
   "codemirror_mode": {
    "name": "ipython",
    "version": 3
   },
   "file_extension": ".py",
   "mimetype": "text/x-python",
   "name": "python",
   "nbconvert_exporter": "python",
   "pygments_lexer": "ipython3",
   "version": "3.10.10"
  },
  "toc": {
   "base_numbering": 1,
   "nav_menu": {},
   "number_sections": true,
   "sideBar": true,
   "skip_h1_title": false,
   "title_cell": "Table of Contents",
   "title_sidebar": "Contents",
   "toc_cell": false,
   "toc_position": {},
   "toc_section_display": true,
   "toc_window_display": false
  }
 },
 "nbformat": 4,
 "nbformat_minor": 5
}
